{
 "cells": [
  {
   "cell_type": "markdown",
   "metadata": {},
   "source": [
    "# Modelling"
   ]
  },
  {
   "cell_type": "markdown",
   "metadata": {},
   "source": [
    "## Import libraries"
   ]
  },
  {
   "cell_type": "code",
   "execution_count": 1,
   "metadata": {},
   "outputs": [],
   "source": [
    "import pandas as pd\n",
    "import numpy as np\n",
    "import seaborn as sns\n",
    "import matplotlib.pyplot as plt\n",
    "\n",
    "from sklearn.model_selection import train_test_split\n",
    "from sklearn.linear_model import LinearRegression\n",
    "from sklearn.metrics import mean_squared_error, mean_absolute_error, r2_score\n",
    "from sklearn.model_selection import cross_val_score\n",
    "from sklearn.tree import DecisionTreeRegressor"
   ]
  },
  {
   "cell_type": "markdown",
   "metadata": {},
   "source": [
    "Hide warnings"
   ]
  },
  {
   "cell_type": "code",
   "execution_count": 2,
   "metadata": {},
   "outputs": [],
   "source": [
    "pd.options.mode.chained_assignment = None"
   ]
  },
  {
   "cell_type": "markdown",
   "metadata": {},
   "source": [
    "## Load data"
   ]
  },
  {
   "cell_type": "code",
   "execution_count": 3,
   "metadata": {},
   "outputs": [
    {
     "data": {
      "text/html": [
       "<div>\n",
       "<style scoped>\n",
       "    .dataframe tbody tr th:only-of-type {\n",
       "        vertical-align: middle;\n",
       "    }\n",
       "\n",
       "    .dataframe tbody tr th {\n",
       "        vertical-align: top;\n",
       "    }\n",
       "\n",
       "    .dataframe thead th {\n",
       "        text-align: right;\n",
       "    }\n",
       "</style>\n",
       "<table border=\"1\" class=\"dataframe\">\n",
       "  <thead>\n",
       "    <tr style=\"text-align: right;\">\n",
       "      <th></th>\n",
       "      <th>target</th>\n",
       "      <th>house_block_structure</th>\n",
       "      <th>house_in_complex</th>\n",
       "      <th>house_semi</th>\n",
       "      <th>house_backyard</th>\n",
       "      <th>house_room_flat</th>\n",
       "      <th>house_caravan_tent</th>\n",
       "      <th>house_other</th>\n",
       "      <th>school_attendance</th>\n",
       "      <th>satellite_tv</th>\n",
       "      <th>...</th>\n",
       "      <th>electricity</th>\n",
       "      <th>water_dwelling_institution</th>\n",
       "      <th>water_yard</th>\n",
       "      <th>lat</th>\n",
       "      <th>lon</th>\n",
       "      <th>NL</th>\n",
       "      <th>house_informal</th>\n",
       "      <th>lang_euro</th>\n",
       "      <th>water_community</th>\n",
       "      <th>person_household</th>\n",
       "    </tr>\n",
       "    <tr>\n",
       "      <th>ward</th>\n",
       "      <th></th>\n",
       "      <th></th>\n",
       "      <th></th>\n",
       "      <th></th>\n",
       "      <th></th>\n",
       "      <th></th>\n",
       "      <th></th>\n",
       "      <th></th>\n",
       "      <th></th>\n",
       "      <th></th>\n",
       "      <th></th>\n",
       "      <th></th>\n",
       "      <th></th>\n",
       "      <th></th>\n",
       "      <th></th>\n",
       "      <th></th>\n",
       "      <th></th>\n",
       "      <th></th>\n",
       "      <th></th>\n",
       "      <th></th>\n",
       "      <th></th>\n",
       "    </tr>\n",
       "  </thead>\n",
       "  <tbody>\n",
       "    <tr>\n",
       "      <th>41601001: Ward 1</th>\n",
       "      <td>16.773757</td>\n",
       "      <td>0.933841</td>\n",
       "      <td>0.000676</td>\n",
       "      <td>0.001372</td>\n",
       "      <td>0.005750</td>\n",
       "      <td>0.002823</td>\n",
       "      <td>0.001431</td>\n",
       "      <td>0.008224</td>\n",
       "      <td>0.260191</td>\n",
       "      <td>0.283468</td>\n",
       "      <td>...</td>\n",
       "      <td>0.919424</td>\n",
       "      <td>0.742692</td>\n",
       "      <td>0.214027</td>\n",
       "      <td>-29.682270</td>\n",
       "      <td>24.734743</td>\n",
       "      <td>0.292039</td>\n",
       "      <td>0.039546</td>\n",
       "      <td>0.845249</td>\n",
       "      <td>0.043281</td>\n",
       "      <td>3.0</td>\n",
       "    </tr>\n",
       "    <tr>\n",
       "      <th>41601002: Ward 2</th>\n",
       "      <td>21.496661</td>\n",
       "      <td>0.696940</td>\n",
       "      <td>0.000000</td>\n",
       "      <td>0.001323</td>\n",
       "      <td>0.007575</td>\n",
       "      <td>0.001486</td>\n",
       "      <td>0.001253</td>\n",
       "      <td>0.008010</td>\n",
       "      <td>0.290228</td>\n",
       "      <td>0.103641</td>\n",
       "      <td>...</td>\n",
       "      <td>0.959259</td>\n",
       "      <td>0.309294</td>\n",
       "      <td>0.576844</td>\n",
       "      <td>-29.119311</td>\n",
       "      <td>24.757737</td>\n",
       "      <td>3.207775</td>\n",
       "      <td>0.275457</td>\n",
       "      <td>0.888100</td>\n",
       "      <td>0.113862</td>\n",
       "      <td>3.0</td>\n",
       "    </tr>\n",
       "    <tr>\n",
       "      <th>41601003: Ward 3</th>\n",
       "      <td>10.931425</td>\n",
       "      <td>0.810545</td>\n",
       "      <td>0.003986</td>\n",
       "      <td>0.000956</td>\n",
       "      <td>0.006686</td>\n",
       "      <td>0.000000</td>\n",
       "      <td>0.000000</td>\n",
       "      <td>0.004150</td>\n",
       "      <td>0.186435</td>\n",
       "      <td>0.165772</td>\n",
       "      <td>...</td>\n",
       "      <td>0.826164</td>\n",
       "      <td>0.323393</td>\n",
       "      <td>0.483376</td>\n",
       "      <td>-29.142276</td>\n",
       "      <td>25.094093</td>\n",
       "      <td>0.000000</td>\n",
       "      <td>0.152534</td>\n",
       "      <td>0.581537</td>\n",
       "      <td>0.193231</td>\n",
       "      <td>3.0</td>\n",
       "    </tr>\n",
       "    <tr>\n",
       "      <th>41601004: Ward 4</th>\n",
       "      <td>23.119257</td>\n",
       "      <td>0.659914</td>\n",
       "      <td>0.000000</td>\n",
       "      <td>0.037245</td>\n",
       "      <td>0.005255</td>\n",
       "      <td>0.000000</td>\n",
       "      <td>0.000000</td>\n",
       "      <td>0.002947</td>\n",
       "      <td>0.281229</td>\n",
       "      <td>0.087768</td>\n",
       "      <td>...</td>\n",
       "      <td>0.986151</td>\n",
       "      <td>0.677437</td>\n",
       "      <td>0.314194</td>\n",
       "      <td>-29.372052</td>\n",
       "      <td>24.942867</td>\n",
       "      <td>2.038778</td>\n",
       "      <td>0.287695</td>\n",
       "      <td>0.750342</td>\n",
       "      <td>0.008369</td>\n",
       "      <td>3.0</td>\n",
       "    </tr>\n",
       "    <tr>\n",
       "      <th>41601005: Ward 5</th>\n",
       "      <td>13.652252</td>\n",
       "      <td>0.950575</td>\n",
       "      <td>0.000598</td>\n",
       "      <td>0.000818</td>\n",
       "      <td>0.004985</td>\n",
       "      <td>0.008693</td>\n",
       "      <td>0.000000</td>\n",
       "      <td>0.000673</td>\n",
       "      <td>0.196687</td>\n",
       "      <td>0.345975</td>\n",
       "      <td>...</td>\n",
       "      <td>0.957376</td>\n",
       "      <td>0.771106</td>\n",
       "      <td>0.194743</td>\n",
       "      <td>-29.409381</td>\n",
       "      <td>25.290165</td>\n",
       "      <td>0.000000</td>\n",
       "      <td>0.024532</td>\n",
       "      <td>0.436975</td>\n",
       "      <td>0.034150</td>\n",
       "      <td>3.0</td>\n",
       "    </tr>\n",
       "  </tbody>\n",
       "</table>\n",
       "<p>5 rows × 38 columns</p>\n",
       "</div>"
      ],
      "text/plain": [
       "                     target  house_block_structure  house_in_complex  \\\n",
       "ward                                                                   \n",
       "41601001: Ward 1  16.773757               0.933841          0.000676   \n",
       "41601002: Ward 2  21.496661               0.696940          0.000000   \n",
       "41601003: Ward 3  10.931425               0.810545          0.003986   \n",
       "41601004: Ward 4  23.119257               0.659914          0.000000   \n",
       "41601005: Ward 5  13.652252               0.950575          0.000598   \n",
       "\n",
       "                  house_semi  house_backyard  house_room_flat  \\\n",
       "ward                                                            \n",
       "41601001: Ward 1    0.001372        0.005750         0.002823   \n",
       "41601002: Ward 2    0.001323        0.007575         0.001486   \n",
       "41601003: Ward 3    0.000956        0.006686         0.000000   \n",
       "41601004: Ward 4    0.037245        0.005255         0.000000   \n",
       "41601005: Ward 5    0.000818        0.004985         0.008693   \n",
       "\n",
       "                  house_caravan_tent  house_other  school_attendance  \\\n",
       "ward                                                                   \n",
       "41601001: Ward 1            0.001431     0.008224           0.260191   \n",
       "41601002: Ward 2            0.001253     0.008010           0.290228   \n",
       "41601003: Ward 3            0.000000     0.004150           0.186435   \n",
       "41601004: Ward 4            0.000000     0.002947           0.281229   \n",
       "41601005: Ward 5            0.000000     0.000673           0.196687   \n",
       "\n",
       "                  satellite_tv  ...  electricity  water_dwelling_institution  \\\n",
       "ward                            ...                                            \n",
       "41601001: Ward 1      0.283468  ...     0.919424                    0.742692   \n",
       "41601002: Ward 2      0.103641  ...     0.959259                    0.309294   \n",
       "41601003: Ward 3      0.165772  ...     0.826164                    0.323393   \n",
       "41601004: Ward 4      0.087768  ...     0.986151                    0.677437   \n",
       "41601005: Ward 5      0.345975  ...     0.957376                    0.771106   \n",
       "\n",
       "                  water_yard        lat        lon        NL  house_informal  \\\n",
       "ward                                                                           \n",
       "41601001: Ward 1    0.214027 -29.682270  24.734743  0.292039        0.039546   \n",
       "41601002: Ward 2    0.576844 -29.119311  24.757737  3.207775        0.275457   \n",
       "41601003: Ward 3    0.483376 -29.142276  25.094093  0.000000        0.152534   \n",
       "41601004: Ward 4    0.314194 -29.372052  24.942867  2.038778        0.287695   \n",
       "41601005: Ward 5    0.194743 -29.409381  25.290165  0.000000        0.024532   \n",
       "\n",
       "                  lang_euro  water_community  person_household  \n",
       "ward                                                            \n",
       "41601001: Ward 1   0.845249         0.043281               3.0  \n",
       "41601002: Ward 2   0.888100         0.113862               3.0  \n",
       "41601003: Ward 3   0.581537         0.193231               3.0  \n",
       "41601004: Ward 4   0.750342         0.008369               3.0  \n",
       "41601005: Ward 5   0.436975         0.034150               3.0  \n",
       "\n",
       "[5 rows x 38 columns]"
      ]
     },
     "execution_count": 3,
     "metadata": {},
     "output_type": "execute_result"
    }
   ],
   "source": [
    "df = pd.read_pickle(\"Data.pkl\")\n",
    "df.head()"
   ]
  },
  {
   "cell_type": "markdown",
   "metadata": {},
   "source": [
    "## Train/test split"
   ]
  },
  {
   "cell_type": "code",
   "execution_count": 4,
   "metadata": {},
   "outputs": [
    {
     "data": {
      "text/plain": [
       "Index(['house_block_structure', 'house_in_complex', 'house_semi',\n",
       "       'house_backyard', 'house_room_flat', 'house_caravan_tent',\n",
       "       'house_other', 'school_attendance', 'satellite_tv', 'has_car',\n",
       "       'landline_ownership', 'lang_isiNdebele', 'lang_isiXhosa',\n",
       "       'lang_isiZulu', 'lang_sepedi', 'lang_sesotho', 'lang_setswana',\n",
       "       'lang_sign', 'lang_siSwati', 'lang_tshivenda', 'lang_xitsonga',\n",
       "       'lang_other', 'race_black', 'race_coloured', 'race_indian_asian',\n",
       "       'race_white', 'race_other', 'electricity', 'water_dwelling_institution',\n",
       "       'water_yard', 'lat', 'lon', 'NL', 'house_informal', 'lang_euro',\n",
       "       'water_community', 'person_household'],\n",
       "      dtype='object')"
      ]
     },
     "execution_count": 4,
     "metadata": {},
     "output_type": "execute_result"
    }
   ],
   "source": [
    "y = df.target\n",
    "df.drop(['target'], axis=1, inplace=True)\n",
    "df.columns"
   ]
  },
  {
   "cell_type": "markdown",
   "metadata": {},
   "source": [
    "The test size is going to be 30% of the data"
   ]
  },
  {
   "cell_type": "code",
   "execution_count": 5,
   "metadata": {},
   "outputs": [
    {
     "name": "stdout",
     "output_type": "stream",
     "text": [
      "Training set has (1974, 37) shape\n",
      "Test set has (847, 37) shape\n"
     ]
    }
   ],
   "source": [
    "X_train, X_test, y_train, y_test = train_test_split(df, y, test_size=0.3, random_state=0)\n",
    "print('Training set has', X_train.shape, 'shape')\n",
    "print('Test set has', X_test.shape, 'shape')"
   ]
  },
  {
   "cell_type": "markdown",
   "metadata": {},
   "source": [
    "## Model: Decision Trees"
   ]
  },
  {
   "cell_type": "markdown",
   "metadata": {},
   "source": [
    "Fitting the model"
   ]
  },
  {
   "cell_type": "code",
   "execution_count": 6,
   "metadata": {},
   "outputs": [
    {
     "data": {
      "text/plain": [
       "DecisionTreeRegressor()"
      ]
     },
     "execution_count": 6,
     "metadata": {},
     "output_type": "execute_result"
    }
   ],
   "source": [
    "tree_model = DecisionTreeRegressor()\n",
    "tree_model.fit(X_train, y_train)"
   ]
  },
  {
   "cell_type": "markdown",
   "metadata": {},
   "source": [
    "### Model evaluation"
   ]
  },
  {
   "cell_type": "code",
   "execution_count": 7,
   "metadata": {},
   "outputs": [
    {
     "name": "stdout",
     "output_type": "stream",
     "text": [
      "Mean squared Error: 27.071727256830613\n",
      "Mean absolute Error: 3.8753786784093274\n",
      "R2 score: 0.7410817644372201\n"
     ]
    }
   ],
   "source": [
    "y_pred = tree_model.predict(X_test)\n",
    "print(f'Mean squared Error: {mean_squared_error(y_true=y_test, y_pred=y_pred)}')\n",
    "print(f'Mean absolute Error: {mean_absolute_error(y_true=y_test, y_pred=y_pred)}')\n",
    "print(f'R2 score: {r2_score(y_true=y_test, y_pred=y_pred)}')"
   ]
  },
  {
   "cell_type": "code",
   "execution_count": 8,
   "metadata": {},
   "outputs": [
    {
     "data": {
      "text/plain": [
       "<seaborn.axisgrid.FacetGrid at 0x1be72084160>"
      ]
     },
     "execution_count": 8,
     "metadata": {},
     "output_type": "execute_result"
    },
    {
     "data": {
      "image/png": "[encoded data removed]",
      "text/plain": [
       "<Figure size 360x360 with 1 Axes>"
      ]
     },
     "metadata": {
      "needs_background": "light"
     },
     "output_type": "display_data"
    }
   ],
   "source": [
    "sns.relplot(x=y_test, y=y_pred, kind=\"scatter\", color='#eb3483')"
   ]
  },
  {
   "cell_type": "markdown",
   "metadata": {},
   "source": [
    "### Cross validation"
   ]
  },
  {
   "cell_type": "code",
   "execution_count": 9,
   "metadata": {},
   "outputs": [
    {
     "data": {
      "text/plain": [
       "array([0.45373778, 0.51449154, 0.74725434, 0.57401545, 0.50568912,\n",
       "       0.71170738, 0.47915778, 0.59292169, 0.63393704, 0.52538664])"
      ]
     },
     "execution_count": 9,
     "metadata": {},
     "output_type": "execute_result"
    }
   ],
   "source": [
    "cv_scores = cross_val_score(estimator=tree_model, X=df, y=y, scoring=\"r2\", cv=10)\n",
    "cv_scores"
   ]
  },
  {
   "cell_type": "code",
   "execution_count": 10,
   "metadata": {},
   "outputs": [
    {
     "data": {
      "text/plain": [
       "0.5738298755565188"
      ]
     },
     "execution_count": 10,
     "metadata": {},
     "output_type": "execute_result"
    }
   ],
   "source": [
    "cv_scores.mean()"
   ]
  },
  {
   "cell_type": "markdown",
   "metadata": {},
   "source": [
    "This isn't a very good R2 and it isn't constant between tests"
   ]
  },
  {
   "cell_type": "markdown",
   "metadata": {},
   "source": [
    "## Model: LinearRegression"
   ]
  },
  {
   "cell_type": "markdown",
   "metadata": {},
   "source": [
    "We are not going to work with geographical data with this model"
   ]
  },
  {
   "cell_type": "code",
   "execution_count": 11,
   "metadata": {},
   "outputs": [
    {
     "name": "stdout",
     "output_type": "stream",
     "text": [
      "Training set has (1974, 35) shape\n",
      "Test set has (847, 35) shape\n"
     ]
    }
   ],
   "source": [
    "X_train.drop(['lat', 'lon'], axis=1, inplace=True)\n",
    "X_test.drop(['lat', 'lon'], axis=1, inplace=True)\n",
    "print('Training set has', X_train.shape, 'shape')\n",
    "print('Test set has', X_test.shape, 'shape')"
   ]
  },
  {
   "cell_type": "markdown",
   "metadata": {},
   "source": [
    "Fitting the model"
   ]
  },
  {
   "cell_type": "code",
   "execution_count": 12,
   "metadata": {},
   "outputs": [
    {
     "data": {
      "text/plain": [
       "LinearRegression()"
      ]
     },
     "execution_count": 12,
     "metadata": {},
     "output_type": "execute_result"
    }
   ],
   "source": [
    "lr_model = LinearRegression()\n",
    "lr_model.fit(X_train, y_train)"
   ]
  },
  {
   "cell_type": "code",
   "execution_count": 13,
   "metadata": {},
   "outputs": [
    {
     "data": {
      "text/plain": [
       "array([-3.29420658e+00,  5.29384260e-01, -2.21200526e+00, -1.27647598e+01,\n",
       "       -2.90239364e+01, -2.07288538e+01, -2.79612398e+01,  5.99889692e+01,\n",
       "       -3.15711509e+00, -3.51045605e+01,  1.68041185e+01, -1.57473998e+01,\n",
       "       -1.75486624e+01, -1.64352145e+01, -1.20387024e+01, -1.23639643e+01,\n",
       "       -1.63314225e+01, -2.20965265e+01, -1.56664407e+01, -1.43110108e+01,\n",
       "       -1.14004981e+01, -2.49389740e+01, -3.29415605e+07, -3.29415598e+07,\n",
       "       -3.29415528e+07, -3.29415494e+07, -3.29415653e+07,  3.54063668e+00,\n",
       "        5.47676737e+06,  5.47677166e+06, -3.96030922e-02, -8.55329492e+00,\n",
       "       -1.85488416e+01,  5.47677410e+06, -5.29211708e-01])"
      ]
     },
     "execution_count": 13,
     "metadata": {},
     "output_type": "execute_result"
    }
   ],
   "source": [
    "lr_model.coef_"
   ]
  },
  {
   "cell_type": "markdown",
   "metadata": {},
   "source": [
    "### Model evaluation"
   ]
  },
  {
   "cell_type": "code",
   "execution_count": 14,
   "metadata": {},
   "outputs": [
    {
     "name": "stdout",
     "output_type": "stream",
     "text": [
      "Mean squared Error: 15.116050192883472\n",
      "Mean absolute Error: 2.9808519414361574\n",
      "R2 score: 0.8554277306545969\n"
     ]
    }
   ],
   "source": [
    "y_pred = lr_model.predict(X_test)\n",
    "print(f'Mean squared Error: {mean_squared_error(y_true=y_test, y_pred=y_pred)}')\n",
    "print(f'Mean absolute Error: {mean_absolute_error(y_true=y_test, y_pred=y_pred)}')\n",
    "print(f'R2 score: {r2_score(y_true=y_test, y_pred=y_pred)}')"
   ]
  },
  {
   "cell_type": "code",
   "execution_count": 15,
   "metadata": {},
   "outputs": [
    {
     "data": {
      "text/plain": [
       "<seaborn.axisgrid.FacetGrid at 0x1be15852580>"
      ]
     },
     "execution_count": 15,
     "metadata": {},
     "output_type": "execute_result"
    },
    {
     "data": {
      "image/png": "[encoded data removed]",
      "text/plain": [
       "<Figure size 360x360 with 1 Axes>"
      ]
     },
     "metadata": {
      "needs_background": "light"
     },
     "output_type": "display_data"
    }
   ],
   "source": [
    "sns.relplot(x=y_test, y=y_pred, kind=\"scatter\", color='#eb3483')"
   ]
  },
  {
   "cell_type": "markdown",
   "metadata": {},
   "source": [
    "### Cross validation"
   ]
  },
  {
   "cell_type": "code",
   "execution_count": 16,
   "metadata": {},
   "outputs": [
    {
     "data": {
      "text/plain": [
       "array([0.74377571, 0.73798624, 0.83234833, 0.76397282, 0.63977621,\n",
       "       0.87614065, 0.78734786, 0.81031107, 0.81916336, 0.75049073])"
      ]
     },
     "execution_count": 16,
     "metadata": {},
     "output_type": "execute_result"
    }
   ],
   "source": [
    "cv_scores = cross_val_score(estimator=lr_model, X=df, y=y, scoring=\"r2\", cv=10)\n",
    "cv_scores"
   ]
  },
  {
   "cell_type": "code",
   "execution_count": 17,
   "metadata": {},
   "outputs": [
    {
     "data": {
      "text/plain": [
       "0.7761312977296918"
      ]
     },
     "execution_count": 17,
     "metadata": {},
     "output_type": "execute_result"
    }
   ],
   "source": [
    "cv_scores.mean()"
   ]
  },
  {
   "cell_type": "markdown",
   "metadata": {},
   "source": [
    "This model has a constant R2 value between tests. It has a relatively good score too"
   ]
  }
 ],
 "metadata": {
  "kernelspec": {
   "display_name": "Python 3",
   "language": "python",
   "name": "python3"
  },
  "language_info": {
   "codemirror_mode": {
    "name": "ipython",
    "version": 3
   },
   "file_extension": ".py",
   "mimetype": "text/x-python",
   "name": "python",
   "nbconvert_exporter": "python",
   "pygments_lexer": "ipython3",
   "version": "3.8.6rc1"
  }
 },
 "nbformat": 4,
 "nbformat_minor": 2
}
